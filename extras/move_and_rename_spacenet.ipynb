{
 "cells": [
  {
   "cell_type": "code",
   "execution_count": 1,
   "metadata": {},
   "outputs": [],
   "source": [
    "%reload_ext autoreload\n",
    "%autoreload 2\n",
    "%matplotlib inline"
   ]
  },
  {
   "cell_type": "code",
   "execution_count": 2,
   "metadata": {},
   "outputs": [],
   "source": [
    "from fastai.vision import *\n",
    "from fastai import *\n",
    "import shutil\n",
    "import os"
   ]
  },
  {
   "cell_type": "code",
   "execution_count": 22,
   "metadata": {},
   "outputs": [
    {
     "name": "stdout",
     "output_type": "stream",
     "text": [
      "apls_environment.yml  \u001b[0m\u001b[01;35mmask_img0000.png\u001b[0m  \u001b[01;34msample_data\u001b[0m/  Untitled1.ipynb\r\n",
      "\u001b[01;34mexample_output_ims\u001b[0m/   README.md         \u001b[01;34msrc\u001b[0m/          Untitled.ipynb\r\n"
     ]
    }
   ],
   "source": [
    "ls"
   ]
  },
  {
   "cell_type": "code",
   "execution_count": 4,
   "metadata": {},
   "outputs": [
    {
     "name": "stdout",
     "output_type": "stream",
     "text": [
      "\u001b[0m\u001b[01;34mAOI_3_Paris_Roads_Train\u001b[0m/     \u001b[01;34mAOI_5_Khartoum_Roads_Train\u001b[0m/  \u001b[01;34mpkl\u001b[0m/\r\n",
      "\u001b[01;34mAOI_4_Shanghai_Roads_Train\u001b[0m/  \u001b[01;34mosmnx\u001b[0m/                       \u001b[01;34mtest_geojson\u001b[0m/\r\n"
     ]
    }
   ],
   "source": [
    "ls example_output_ims/"
   ]
  },
  {
   "cell_type": "code",
   "execution_count": 14,
   "metadata": {},
   "outputs": [],
   "source": [
    "MSKS = Path('example_output_ims')"
   ]
  },
  {
   "cell_type": "code",
   "execution_count": 15,
   "metadata": {},
   "outputs": [
    {
     "data": {
      "text/plain": [
       "[PosixPath('example_output_ims/AOI_4_Shanghai_Roads_Train'),\n",
       " PosixPath('example_output_ims/AOI_3_Paris_Roads_Train'),\n",
       " PosixPath('example_output_ims/test_geojson'),\n",
       " PosixPath('example_output_ims/AOI_5_Khartoum_Roads_Train'),\n",
       " PosixPath('example_output_ims/osmnx'),\n",
       " PosixPath('example_output_ims/pkl')]"
      ]
     },
     "execution_count": 15,
     "metadata": {},
     "output_type": "execute_result"
    }
   ],
   "source": [
    "MSKS.ls()"
   ]
  },
  {
   "cell_type": "code",
   "execution_count": 16,
   "metadata": {},
   "outputs": [
    {
     "data": {
      "text/plain": [
       "[PosixPath('example_output_ims/AOI_4_Shanghai_Roads_Train/masks_2m_plots'),\n",
       " PosixPath('example_output_ims/AOI_4_Shanghai_Roads_Train/masks_2m')]"
      ]
     },
     "execution_count": 16,
     "metadata": {},
     "output_type": "execute_result"
    }
   ],
   "source": [
    "MSKS.ls()[0].ls()"
   ]
  },
  {
   "cell_type": "code",
   "execution_count": 17,
   "metadata": {},
   "outputs": [
    {
     "data": {
      "text/plain": [
       "[PosixPath('example_output_ims/AOI_4_Shanghai_Roads_Train/masks_2m'),\n",
       " PosixPath('example_output_ims/AOI_3_Paris_Roads_Train/masks_2m'),\n",
       " PosixPath('example_output_ims/AOI_5_Khartoum_Roads_Train/masks_2m')]"
      ]
     },
     "execution_count": 17,
     "metadata": {},
     "output_type": "execute_result"
    }
   ],
   "source": [
    "MSKS = [o/'masks_2m' for o in MSKS.ls()]\n",
    "MSKS = [MSKS[0], MSKS[1], MSKS[3]]\n",
    "MSKS"
   ]
  },
  {
   "cell_type": "code",
   "execution_count": 23,
   "metadata": {},
   "outputs": [],
   "source": [
    "sample = MSKS[0].ls()[0]"
   ]
  },
  {
   "cell_type": "code",
   "execution_count": 24,
   "metadata": {},
   "outputs": [
    {
     "data": {
      "text/plain": [
       "PosixPath('example_output_ims/AOI_4_Shanghai_Roads_Train/masks_2m/mask_img1356.png')"
      ]
     },
     "execution_count": 24,
     "metadata": {},
     "output_type": "execute_result"
    }
   ],
   "source": [
    "sample"
   ]
  },
  {
   "cell_type": "code",
   "execution_count": 29,
   "metadata": {},
   "outputs": [
    {
     "data": {
      "text/plain": [
       "PosixPath('example_output_ims/AOI_4_Shanghai_Roads_Train/masks_2m')"
      ]
     },
     "execution_count": 29,
     "metadata": {},
     "output_type": "execute_result"
    }
   ],
   "source": [
    "sample.parent"
   ]
  },
  {
   "cell_type": "code",
   "execution_count": 31,
   "metadata": {},
   "outputs": [],
   "source": [
    "sample.rename(sample.parent/('Shanghai_'+sample.name))"
   ]
  },
  {
   "cell_type": "code",
   "execution_count": 32,
   "metadata": {},
   "outputs": [
    {
     "data": {
      "text/plain": [
       "PosixPath('example_output_ims/AOI_4_Shanghai_Roads_Train/masks_2m/mask_img1356.png')"
      ]
     },
     "execution_count": 32,
     "metadata": {},
     "output_type": "execute_result"
    }
   ],
   "source": [
    "sample"
   ]
  },
  {
   "cell_type": "code",
   "execution_count": 33,
   "metadata": {},
   "outputs": [],
   "source": [
    "def add_prefix(path, prefix):\n",
    "    path.rename(path.parent/(prefix + path.name))"
   ]
  },
  {
   "cell_type": "code",
   "execution_count": 35,
   "metadata": {},
   "outputs": [],
   "source": [
    "prefixes = ['Shanghai', 'Paris', 'Khartoum']\n",
    "for i in range(3):\n",
    "    for j in MSKS[i].ls():\n",
    "        add_prefix(j, prefixes[i])\n",
    "    "
   ]
  },
  {
   "cell_type": "code",
   "execution_count": null,
   "metadata": {},
   "outputs": [],
   "source": []
  }
 ],
 "metadata": {
  "kernelspec": {
   "display_name": "Python 3",
   "language": "python",
   "name": "python3"
  },
  "language_info": {
   "codemirror_mode": {
    "name": "ipython",
    "version": 3
   },
   "file_extension": ".py",
   "mimetype": "text/x-python",
   "name": "python",
   "nbconvert_exporter": "python",
   "pygments_lexer": "ipython3",
   "version": "3.7.1"
  }
 },
 "nbformat": 4,
 "nbformat_minor": 2
}
